{
 "cells": [
  {
   "cell_type": "code",
   "execution_count": 1,
   "metadata": {},
   "outputs": [],
   "source": [
    "# import pandas as pd\n",
    "import numpy as np\n",
    "import pandas as pd\n",
    "import os\n",
    "import scipy\n",
    "#from mpl_toolkits.axes_grid1 import make_axes_locatable\n",
    "#from mpl_toolkits.axes_grid1.colorbar import colorbar\n",
    "#import ffmpeg\n",
    "import scipy.interpolate\n",
    "import matplotlib.pyplot as plt\n",
    "#from mpl_toolkits.axes_grid1 import make_axes_locatable\n",
    "#import scipy.integrate as spi\n",
    "#from scipy.integrate import odeint #this is the module to solve ODEs\n",
    "%matplotlib inline"
   ]
  },
  {
   "cell_type": "code",
   "execution_count": 5,
   "metadata": {},
   "outputs": [
    {
     "name": "stdout",
     "output_type": "stream",
     "text": [
      "videos/26_1_M1_D1log\n"
     ]
    },
    {
     "name": "stderr",
     "output_type": "stream",
     "text": [
      "ffmpeg version 5.1.2 Copyright (c) 2000-2022 the FFmpeg developers\n",
      "  built with clang version 15.0.7\n",
      "  configuration: --prefix=/Users/runner/miniforge3/conda-bld/ffmpeg_1683204443806/_h_env_placehold_placehold_placehold_placehold_placehold_placehold_placehold_placehold_placehold_placehold_placehold_placehold_placehold_placehold_placehold_placehold_placehold_placehold_placehold_pl --cc=arm64-apple-darwin20.0.0-clang --cxx=arm64-apple-darwin20.0.0-clang++ --nm=arm64-apple-darwin20.0.0-nm --ar=arm64-apple-darwin20.0.0-ar --disable-doc --disable-openssl --enable-demuxer=dash --enable-hardcoded-tables --enable-libfreetype --enable-libfontconfig --enable-libopenh264 --enable-cross-compile --arch=arm64 --target-os=darwin --cross-prefix=arm64-apple-darwin20.0.0- --host-cc=/Users/runner/miniforge3/conda-bld/ffmpeg_1683204443806/_build_env/bin/x86_64-apple-darwin13.4.0-clang --enable-neon --enable-gnutls --enable-libmp3lame --enable-libvpx --enable-libass --enable-pthreads --enable-gpl --enable-libx264 --enable-libx265 --enable-libaom --enable-libsvtav1 --enable-libxml2 --enable-pic --enable-shared --disable-static --enable-version3 --enable-zlib --enable-libopus --pkg-config=/Users/runner/miniforge3/conda-bld/ffmpeg_1683204443806/_build_env/bin/pkg-config\n",
      "  libavutil      57. 28.100 / 57. 28.100\n",
      "  libavcodec     59. 37.100 / 59. 37.100\n",
      "  libavformat    59. 27.100 / 59. 27.100\n",
      "  libavdevice    59.  7.100 / 59.  7.100\n",
      "  libavfilter     8. 44.100 /  8. 44.100\n",
      "  libswscale      6.  7.100 /  6.  7.100\n",
      "  libswresample   4.  7.100 /  4.  7.100\n",
      "  libpostproc    56.  6.100 / 56.  6.100\n",
      "Input #0, image2, from 'videos/26_1_M1_D1log/*.png':\n",
      "  Duration: 00:00:48.33, start: 0.000000, bitrate: N/A\n",
      "  Stream #0:0: Video: png, rgba(pc), 1200x1500 [SAR 5906:5906 DAR 4:5], 3 fps, 3 tbr, 3 tbn\n",
      "Stream mapping:\n",
      "  Stream #0:0 -> #0:0 (png (native) -> h264 (libx264))\n",
      "Press [q] to stop, [?] for help\n",
      "[libx264 @ 0x14d7050d0] using SAR=1/1\n",
      "[libx264 @ 0x14d7050d0] using cpu capabilities: ARMv8 NEON\n",
      "[libx264 @ 0x14d7050d0] profile High, level 4.0, 4:2:0, 8-bit\n",
      "[libx264 @ 0x14d7050d0] 264 - core 164 r3095 baee400 - H.264/MPEG-4 AVC codec - Copyleft 2003-2022 - http://www.videolan.org/x264.html - options: cabac=1 ref=3 deblock=1:0:0 analyse=0x3:0x113 me=hex subme=7 psy=1 psy_rd=1.00:0.00 mixed_ref=1 me_range=16 chroma_me=1 trellis=1 8x8dct=1 cqm=0 deadzone=21,11 fast_pskip=1 chroma_qp_offset=-2 threads=15 lookahead_threads=2 sliced_threads=0 nr=0 decimate=1 interlaced=0 bluray_compat=0 constrained_intra=0 bframes=3 b_pyramid=2 b_adapt=1 b_bias=0 direct=1 weightb=1 open_gop=0 weightp=2 keyint=250 keyint_min=3 scenecut=40 intra_refresh=0 rc_lookahead=40 rc=crf mbtree=1 crf=23.0 qcomp=0.60 qpmin=0 qpmax=69 qpstep=4 ip_ratio=1.40 aq=1:1.00\n",
      "Output #0, mp4, to 'videos/26_1_M1_D1log.mp4':\n",
      "  Metadata:\n",
      "    encoder         : Lavf59.27.100\n",
      "  Stream #0:0: Video: h264 (avc1 / 0x31637661), yuv420p(tv, progressive), 1200x1500 [SAR 1:1 DAR 4:5], q=2-31, 3 fps, 12288 tbn\n",
      "    Metadata:\n",
      "      encoder         : Lavc59.37.100 libx264\n",
      "    Side data:\n",
      "      cpb: bitrate max/min/avg: 0/0/0 buffer size: 0 vbv_delay: N/A\n",
      "frame=  580 fps=127 q=-1.0 Lsize=    3606kB time=00:03:12.33 bitrate= 153.6kbits/s speed=42.2x    \n",
      "video:3599kB audio:0kB subtitle:0kB other streams:0kB global headers:0kB muxing overhead: 0.197065%\n",
      "[libx264 @ 0x14d7050d0] frame I:3     Avg QP: 9.16  size: 93473\n",
      "[libx264 @ 0x14d7050d0] frame P:205   Avg QP:17.34  size:  9685\n",
      "[libx264 @ 0x14d7050d0] frame B:372   Avg QP:22.56  size:  3813\n",
      "[libx264 @ 0x14d7050d0] consecutive B-frames:  7.1%  9.7% 37.8% 45.5%\n",
      "[libx264 @ 0x14d7050d0] mb I  I16..4: 43.6% 37.6% 18.7%\n",
      "[libx264 @ 0x14d7050d0] mb P  I16..4:  2.8%  2.5%  1.1%  P16..4:  5.4%  2.8%  1.1%  0.0%  0.0%    skip:84.3%\n",
      "[libx264 @ 0x14d7050d0] mb B  I16..4:  0.6%  0.3%  0.1%  B16..8:  8.0%  2.1%  0.2%  direct: 1.2%  skip:87.5%  L0:45.8% L1:45.7% BI: 8.5%\n",
      "[libx264 @ 0x14d7050d0] 8x8 transform intra:36.6% inter:72.8%\n",
      "[libx264 @ 0x14d7050d0] coded y,uvDC,uvAC intra: 20.6% 56.3% 36.6% inter: 1.9% 4.1% 1.6%\n",
      "[libx264 @ 0x14d7050d0] i16 v,h,dc,p: 53% 13%  1% 33%\n",
      "[libx264 @ 0x14d7050d0] i8 v,h,dc,ddl,ddr,vr,hd,vl,hu: 25% 19% 37%  2%  4%  3%  5%  3%  2%\n",
      "[libx264 @ 0x14d7050d0] i4 v,h,dc,ddl,ddr,vr,hd,vl,hu: 45% 23% 18%  2%  3%  3%  3%  2%  1%\n",
      "[libx264 @ 0x14d7050d0] i8c dc,h,v,p: 33% 16% 29% 21%\n",
      "[libx264 @ 0x14d7050d0] Weighted P-Frames: Y:0.0% UV:0.0%\n",
      "[libx264 @ 0x14d7050d0] ref P L0: 71.4%  6.2% 16.0%  6.5%\n",
      "[libx264 @ 0x14d7050d0] ref B L0: 84.4% 13.2%  2.4%\n",
      "[libx264 @ 0x14d7050d0] ref B L1: 97.6%  2.4%\n",
      "[libx264 @ 0x14d7050d0] kb/s:152.46\n"
     ]
    }
   ],
   "source": [
    "\n",
    "import os\n",
    "import subprocess\n",
    "\n",
    "#name=\"26_1_M1\"\n",
    "#namerunlist=[\"26_1_M1\",\"26_1_M0\",\"30_1_M0\",\"30_1_M1\",\"27_1\",\"28_1\",\"29_3\",\"29_4\"]\n",
    "namerunlist=[\"26_1_M1\"]\n",
    "Dindexlist=[1]\n",
    "\n",
    "#namerunlist=[\"26_3_SCFA\",\"26_4_SCFA\"]\n",
    "#Dindexlist=[0]\n",
    "for name in namerunlist:\n",
    "    for Dindex in Dindexlist: #add D again\n",
    "            for mode in [\"log\"]:\n",
    "               \n",
    "                foldername=os.path.join(\"videos\",name+\"_D\"+str(Dindex)+mode)\n",
    "                print(foldername)\n",
    "                #ffmpeg -framerate 1 -pattern_type glob -i 'foldername/*.png' video.mp4\n",
    "                #subprocess.call(['ffmpeg', '-framerate', '3',  '-pattern_type', 'glob', '-i', foldername+'/*.png', '-vcodec', 'libx264', '-pix_fmt', 'yuv420p',  foldername+'.mp4'])\n",
    "                subprocess.call(['ffmpeg', '-stream_loop', '3', '-framerate', '3',  '-pattern_type', 'glob', '-i', foldername+'/*.png', '-vcodec', 'libx264', '-pix_fmt', 'yuv420p',  foldername+'.mp4'])\n",
    "\n",
    "            \n",
    "            \n",
    "#optional resolution argument -s after vcodec argument\n",
    "#'-s', '1080×720', \n",
    "#subprocess.call(['ffmpeg', '-framerate', '3', '-pattern_type', 'glob', '-i', foldername+'/*.png', '-vcodec', 'libx264', '-s', '1080×720', '-pix_fmt', 'yuv420p',  foldername+'.mp4'])\n",
    "\n",
    "#'-s', '640x480'\n",
    "\n",
    "#for some reason, the command with the higher resolution argument does not work when starting from python. It works in the shell.\n",
    "#ffmpeg -pattern_type glob -i '*.png' -vcodec libx264 -s 1080x720 -pix_fmt yuv420p movie.mp4\n",
    "\n",
    "\n",
    "#subprocess.call(['ffmpeg', '-i', 'output.avi', '-t', '5', 'out.gif'])\n",
    "#ffmpeg -framerate 5 -pattern_type glob -vcodec libx264 -pix_fmt yuv420p -i simpleformat_exporttest_M1_D0/*.png test.mp4\n",
    "\n"
   ]
  }
 ],
 "metadata": {
  "kernelspec": {
   "display_name": "Python 3 (ipykernel)",
   "language": "python",
   "name": "python3"
  },
  "language_info": {
   "codemirror_mode": {
    "name": "ipython",
    "version": 3
   },
   "file_extension": ".py",
   "mimetype": "text/x-python",
   "name": "python",
   "nbconvert_exporter": "python",
   "pygments_lexer": "ipython3",
   "version": "3.11.0"
  }
 },
 "nbformat": 4,
 "nbformat_minor": 4
}
